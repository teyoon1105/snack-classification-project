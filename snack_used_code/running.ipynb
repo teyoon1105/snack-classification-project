{
 "cells": [
  {
   "cell_type": "code",
   "execution_count": 1,
   "id": "e47cd0ba-8b7e-49c7-8a59-6f1712087285",
   "metadata": {},
   "outputs": [
    {
     "name": "stdout",
     "output_type": "stream",
     "text": [
      "C:\\Users\\SBA\\miniPJT\n"
     ]
    }
   ],
   "source": [
    "import os\n",
    "\n",
    "Home = os.getcwd()\n",
    "path = \"/classification_data_resize_Qdel_label/food_data_yaml.yaml\"\n",
    "\n",
    "yaml_path = os.path.join(Home,path)"
   ]
  },
  {
   "cell_type": "code",
   "execution_count": null,
   "id": "20b54830-b375-4bbd-9704-0f2c726b068c",
   "metadata": {},
   "outputs": [],
   "source": [
    "import os\n",
    "import ultralytics\n",
    "from ultralytics import YOLO\n",
    "import zipfile\n",
    "import torch\n",
    "\n",
    "# cuDNN 비활성화\n",
    "torch.backends.cudnn.enabled = False\n",
    "\n",
    "torch.cuda.is_available()\n",
    "device = torch.device(\"cuda\" if torch.cuda.is_available() else \"cpu\")\n",
    "\n",
    "model = YOLO('yolo11n.pt')\n",
    "\n",
    "# 모델 학습 재개\n",
    "model.train(data=yaml_path, epochs=300, batch=16, name = 'food_x1_albux_reo_16_4090')"
   ]
  }
 ],
 "metadata": {
  "kernelspec": {
   "display_name": "Python 3 (ipykernel)",
   "language": "python",
   "name": "python3"
  },
  "language_info": {
   "codemirror_mode": {
    "name": "ipython",
    "version": 3
   },
   "file_extension": ".py",
   "mimetype": "text/x-python",
   "name": "python",
   "nbconvert_exporter": "python",
   "pygments_lexer": "ipython3",
   "version": "3.10.14"
  }
 },
 "nbformat": 4,
 "nbformat_minor": 5
}
