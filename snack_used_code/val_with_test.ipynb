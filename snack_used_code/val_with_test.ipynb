{
 "cells": [
  {
   "cell_type": "code",
   "execution_count": 1,
   "id": "8109ee89-3428-4e2b-a15c-cf906f7a4032",
   "metadata": {},
   "outputs": [],
   "source": [
    "import os\n",
    "import ultralytics\n",
    "from ultralytics import YOLO\n",
    "import zipfile\n",
    "import torch"
   ]
  },
  {
   "cell_type": "code",
   "execution_count": 2,
   "id": "f9152b30-c3dc-4b80-9343-4517b704c605",
   "metadata": {},
   "outputs": [],
   "source": [
    "# cuDNN 비활성화\n",
    "torch.backends.cudnn.enabled = False"
   ]
  },
  {
   "cell_type": "code",
   "execution_count": 3,
   "id": "d8619634-1d47-4370-a3b9-ea035c6de096",
   "metadata": {},
   "outputs": [],
   "source": [
    "model_path = \"C:/Users/SBA/miniPJT/snack_test_result/9th/best.pt\"\n",
    "yaml_path = \"C:/Users/SBA/miniPJT/snack_test_result/9th/data.yaml\""
   ]
  },
  {
   "cell_type": "code",
   "execution_count": 4,
   "id": "c1217a3e-0dee-4203-9ed4-914aca722278",
   "metadata": {},
   "outputs": [
    {
     "name": "stdout",
     "output_type": "stream",
     "text": [
      "Ultralytics 8.3.9 �윓� Python-3.10.14 torch-2.4.1+cu124 CUDA:0 (NVIDIA GeForce GTX 1660 SUPER, 6144MiB)\n",
      "YOLO11n summary (fused): 238 layers, 2,582,737 parameters, 0 gradients, 6.3 GFLOPs\n",
      "\u001b[34m\u001b[1mval: \u001b[0mNew cache created: C:\\Users\\SBA\\miniPJT\\snack_test_result\\9th\\test\\labels.cache\n",
      "                   all         20         36      0.833      0.896      0.906      0.468\n",
      "               eclipse         11         15      0.927          1      0.982      0.403\n",
      "                  hush         11         11       0.94          1      0.995      0.682\n",
      "                 snack         10         10      0.632      0.687      0.742      0.319\n",
      "Speed: 3.0ms preprocess, 8.9ms inference, 0.0ms loss, 8.8ms postprocess per image\n",
      "Results saved to \u001b[1mruns\\detect\\val\u001b[0m\n",
      "�윊� Learn more at https://docs.ultralytics.com/modes/val\n"
     ]
    },
    {
     "name": "stderr",
     "output_type": "stream",
     "text": [
      "\n",
      "\u001b[34m\u001b[1mval: \u001b[0mScanning C:\\Users\\SBA\\miniPJT\\snack_test_result\\9th\\test\\labels...:   0%|          | 0/20 [00:00<?, ?it/s]\n",
      "\u001b[34m\u001b[1mval: \u001b[0mScanning C:\\Users\\SBA\\miniPJT\\snack_test_result\\9th\\test\\labels... 20 images, 0 backgrounds, 0 corrupt: 100%|##########| 20/20 [00:00<00:00, 689.20it/s]\n",
      "\n",
      "                 Class     Images  Instances      Box(P          R      mAP50  mAP50-95):   0%|          | 0/2 [00:00<?, ?it/s]\n",
      "                 Class     Images  Instances      Box(P          R      mAP50  mAP50-95):  50%|#####     | 1/2 [00:02<00:02,  2.09s/it]\n",
      "                 Class     Images  Instances      Box(P          R      mAP50  mAP50-95): 100%|##########| 2/2 [00:02<00:00,  1.01it/s]\n",
      "                 Class     Images  Instances      Box(P          R      mAP50  mAP50-95): 100%|##########| 2/2 [00:02<00:00,  1.15s/it]\n"
     ]
    }
   ],
   "source": [
    "!yolo task=detect mode=val split=test model={model_path} data = {yaml_path}"
   ]
  },
  {
   "cell_type": "code",
   "execution_count": null,
   "id": "d5f28ae1-4b2a-4f27-95bf-2c0af8be7dcd",
   "metadata": {},
   "outputs": [],
   "source": []
  }
 ],
 "metadata": {
  "kernelspec": {
   "display_name": "Python 3 (ipykernel)",
   "language": "python",
   "name": "python3"
  },
  "language_info": {
   "codemirror_mode": {
    "name": "ipython",
    "version": 3
   },
   "file_extension": ".py",
   "mimetype": "text/x-python",
   "name": "python",
   "nbconvert_exporter": "python",
   "pygments_lexer": "ipython3",
   "version": "3.10.14"
  }
 },
 "nbformat": 4,
 "nbformat_minor": 5
}
