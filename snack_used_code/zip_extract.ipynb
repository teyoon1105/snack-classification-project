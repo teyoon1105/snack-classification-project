{
 "cells": [
  {
   "cell_type": "code",
   "execution_count": 2,
   "id": "58654058-8d5e-4afb-a718-1331c6de85fa",
   "metadata": {},
   "outputs": [],
   "source": [
    "import zipfile\n",
    "import os\n",
    "\n",
    "zipPath = \"D:/갈비탕/Q1/Q1.zip\"\n",
    "zipfile.ZipFile(zipPath).extractall(\"D:/갈비탕/Q1\")\n"
   ]
  },
  {
   "cell_type": "code",
   "execution_count": 5,
   "id": "a1bf0b9a-2241-4901-91cc-ec5a647babbf",
   "metadata": {},
   "outputs": [],
   "source": [
    "import zipfile\n",
    "import os\n",
    "\n",
    "# train or valid images가 있는 디렉토리 경로\n",
    "# train or valid labels가 있는 디렉토리 경로\n",
    "path = \"D:/AI_HUB/Validation/[원천]양추정_VAL\"\n",
    "\n",
    "# 해당 경로 속 폴더 안 파일들의 리스트\n",
    "# 양추정_VAL를 예시로 들면\n",
    "# folderlist 안에는 ['갈비탕', '갈치조림', 등등] 음식 디렉토리의 이름이 리스트로 저장됨 \n",
    "folderlist = os.listdir(path)\n",
    "# 리스트에서 하나씩 가져옴\n",
    "# folder는 갈비탕, 갈치조림, 이렇게 가져옴\n",
    "for folder in folderlist:\n",
    "    # folder명을 통해 각 음식 디렉토리의 경로를 만들어줌\n",
    "    folderpath = os.path.join(path, folder)\n",
    "    # 음식 디렉토리 안에는 Q1 ~ Q5의 디렉토리가 있어서\n",
    "    # 이를 리스트로 가져옴 [Q1, Q2, Q3, Q4, Q5]\n",
    "    Q_list = os.listdir(folderpath)\n",
    "    for qlist in Q_list:\n",
    "        # 각 Q폴더의 경로를 만들어줌\n",
    "        qpath = os.path.join(folderpath, qlist)\n",
    "        # 현재 Q 파일 내에 하나의 zip파일 존재\n",
    "        # zip 파일 이름을 list로 가져오고\n",
    "        zip_name = os.listdir(qpath)\n",
    "        # 리스트의 0번째 값을 가져와서 \n",
    "        # zip파일의 경로를 만들어줌\n",
    "        zip_path = os.path.join(qpath, zip_name[0])\n",
    "        # zip파일을 ZipFile이라고 인식시켜주고\n",
    "        with zipfile.ZipFile(zip_path, 'r') as zf: \n",
    "            # Q 폴더 디렉토리 안에 전부 저장시키기\n",
    "            zf.extractall(qpath)"
   ]
  },
  {
   "cell_type": "code",
   "execution_count": null,
   "id": "d1264019-e46a-4643-a855-619b710538d4",
   "metadata": {},
   "outputs": [],
   "source": [
    "import cv2\n",
    "import os\n",
    "import zipfile\n",
    "import os\n",
    "\n",
    "# train or valid images가 있는 디렉토리 경로\n",
    "# train or valid labels가 있는 디렉토리 경로\n",
    "path = \"D:/AI_HUB/Validation/[원천]양추정_VAL\"\n",
    "\n",
    "width = 640\n",
    "height = 640\n",
    "\n",
    "\n",
    "# 해당 경로 속 폴더 안 파일들의 리스트\n",
    "# 양추정_VAL를 예시로 들면\n",
    "# folderlist 안에는 ['갈비탕', '갈치조림', 등등] 음식 디렉토리의 이름이 리스트로 저장됨 \n",
    "folderlist = os.listdir(path)\n",
    "# 리스트에서 하나씩 가져옴\n",
    "# folder는 갈비탕, 갈치조림, 이렇게 가져옴\n",
    "for folder in folderlist:\n",
    "    # folder명을 통해 각 음식 디렉토리의 경로를 만들어줌\n",
    "    folderpath = os.path.join(path, folder)\n",
    "    # 음식 디렉토리 안에는 Q1 ~ Q5의 디렉토리가 있어서\n",
    "    # 이를 리스트로 가져옴 [Q1, Q2, Q3, Q4, Q5]\n",
    "    Q_list = os.listdir(folderpath)\n",
    "    for qlist in Q_list:\n",
    "        # 각 Q폴더의 경로를 만들어줌\n",
    "        qpath = os.path.join(folderpath, qlist)\n",
    "        # zip파일을 해제했기 때문에 q 폴더 안에는 여러개의 이미지가 존재\n",
    "        # 해당 리스트를 만들기\n",
    "        food_image = os.listdir(qpath)\n",
    "        # 해당 이름을 for문으로 리스트에서 빼오고\n",
    "        for image_list in food_image:\n",
    "            # 각 사진들 값에 접근할 경로 만들기\n",
    "            image_path = os.path.join(qpath, image_list)\n",
    "            # 각 경로에 접근해서 해당 사진을 cv2로 가져와서 resize\n",
    "            img = cv2.immread(image_path)\n",
    "            resize_img = cv2.resize(img, (width, height), cv2.INTER_AREA)\n",
    "            # 원본 파일이 있던 자리에 덮어씌우기\n",
    "            cv2.imwrite(image_path, resize_img)\n",
    "            # 해당 사진이 resize되면 출력\n",
    "            print(f\"{foodlist}가 resize 되었습니다\")\n",
    "                    "
   ]
  },
  {
   "cell_type": "code",
   "execution_count": 8,
   "id": "0a70d566-58cc-46f4-88fd-9cddf36467eb",
   "metadata": {},
   "outputs": [
    {
     "name": "stdout",
     "output_type": "stream",
     "text": [
      "D:/data/train/images\\Q1\n",
      "Error: Could not load image from D:/data/train/images\\Q1\\side_주먹밥김밥류_접시_김밥_Q1_00001.JPG\n",
      "D:/data/train/images\\Q2\n",
      "Error: Could not load image from D:/data/train/images\\Q2\\side_주먹밥김밥류_접시_김밥_Q2_00001.JPG\n",
      "D:/data/train/images\\Q3\n",
      "Error: Could not load image from D:/data/train/images\\Q3\\side_주먹밥김밥류_접시_김밥_Q3_00002.JPG\n",
      "D:/data/train/images\\Q4\n",
      "Error: Could not load image from D:/data/train/images\\Q4\\side_주먹밥김밥류_접시_김밥_Q4_00001.JPG\n",
      "D:/data/train/images\\Q5\n",
      "Error: Could not load image from D:/data/train/images\\Q5\\side_주먹밥김밥류_접시_김밥_Q5_00001.JPG\n"
     ]
    }
   ],
   "source": [
    "import cv2\n",
    "import os\n",
    "import zipfile\n",
    "import os\n",
    "\n",
    "width = 640\n",
    "height = 640\n",
    "\n",
    "folderpath = \"D:/data/train/images\"\n",
    "# 음식 디렉토리 안에는 Q1 ~ Q5의 디렉토리가 있어서\n",
    "# 이를 리스트로 가져옴 [Q1, Q2, Q3, Q4, Q5]\n",
    "Q_list = os.listdir(folderpath)\n",
    "for qlist in Q_list:\n",
    "    # 각 Q폴더의 경로를 만들어줌\n",
    "    qpath = os.path.join(folderpath, qlist)\n",
    "    # zip파일을 해제했기 때문에 q 폴더 안에는 여러개의 이미지가 존재\n",
    "    # 해당 리스트를 만들기\n",
    "    food_image = os.listdir(qpath)\n",
    "    # 해당 이름을 for문으로 리스트에서 빼오고\n",
    "    for image_list in food_image:\n",
    "        # 각 사진들 값에 접근할 경로 만들기\n",
    "        image_path = os.path.join(qpath, image_list)\n",
    "        # 각 경로에 접근해서 해당 사진을 cv2로 가져와서 resize\n",
    "        img = cv2.imread(image_path)\n",
    "        if img is None:\n",
    "            print(f\"Error: Could not load image from {image_path}\")\n",
    "            break\n",
    "        else:\n",
    "            resize_img = cv2.resize(img, (width, height), cv2.INTER_AREA)\n",
    "            # 원본 파일이 있던 자리에 덮어씌우기\n",
    "            cv2.imwrite(image_path, resize_img)\n",
    "            # 해당 사진이 resize되면 출력\n",
    "            print(f\"{image_list}가 resize 되었습니다\")"
   ]
  },
  {
   "cell_type": "code",
   "execution_count": 2,
   "id": "6c3e26a3-3751-41eb-a666-83de06a2e12a",
   "metadata": {},
   "outputs": [
    {
     "name": "stdout",
     "output_type": "stream",
     "text": [
      "Requirement already satisfied: opencv-python in c:\\users\\sba\\miniconda3\\envs\\yolov11\\lib\\site-packages (4.10.0.84)\n",
      "Requirement already satisfied: numpy>=1.21.2 in c:\\users\\sba\\miniconda3\\envs\\yolov11\\lib\\site-packages (from opencv-python) (1.26.3)\n",
      "Note: you may need to restart the kernel to use updated packages.\n"
     ]
    }
   ],
   "source": [
    "pip install opencv-python"
   ]
  },
  {
   "cell_type": "code",
   "execution_count": 2,
   "id": "6776b1c2-dc38-4cbc-80ae-4f2b2b10a9e6",
   "metadata": {},
   "outputs": [
    {
     "name": "stdout",
     "output_type": "stream",
     "text": [
      "Error: Could not load image from\n"
     ]
    }
   ],
   "source": []
  },
  {
   "cell_type": "code",
   "execution_count": 1,
   "id": "0899ace1-c4c1-42f0-be5f-66e108887fbb",
   "metadata": {},
   "outputs": [
    {
     "name": "stdout",
     "output_type": "stream",
     "text": [
      "4.10.0\n"
     ]
    }
   ],
   "source": []
  },
  {
   "cell_type": "code",
   "execution_count": null,
   "id": "8a424bd2-2f87-4d79-928c-06b3c33ab3f9",
   "metadata": {},
   "outputs": [],
   "source": []
  }
 ],
 "metadata": {
  "kernelspec": {
   "display_name": "Python 3 (ipykernel)",
   "language": "python",
   "name": "python3"
  },
  "language_info": {
   "codemirror_mode": {
    "name": "ipython",
    "version": 3
   },
   "file_extension": ".py",
   "mimetype": "text/x-python",
   "name": "python",
   "nbconvert_exporter": "python",
   "pygments_lexer": "ipython3",
   "version": "3.10.14"
  }
 },
 "nbformat": 4,
 "nbformat_minor": 5
}
